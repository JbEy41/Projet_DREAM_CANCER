{
 "cells": [
  {
   "cell_type": "markdown",
   "metadata": {},
   "source": [
    "# CODE FOR FORECASTS TO SUBMITS"
   ]
  },
  {
   "cell_type": "code",
   "execution_count": 22,
   "metadata": {
    "collapsed": false
   },
   "outputs": [],
   "source": [
    "import os \n",
    "from __future__ import division\n",
    "import numpy as np\n",
    "import pandas as pd\n",
    "import matplotlib \n",
    "import sklearn as sk\n",
    "from sklearn import cross_validation\n",
    "from sklearn.decomposition import PCA, KernelPCA\n",
    "from matplotlib import pyplot as plt\n",
    "from sklearn import *\n",
    "from funk_py import *\n",
    "%matplotlib inline\n",
    "from sklearn.linear_model import Ridge\n",
    "from sklearn.decomposition import PCA, KernelPCA\n"
   ]
  },
  {
   "cell_type": "code",
   "execution_count": 5,
   "metadata": {
    "collapsed": false
   },
   "outputs": [
    {
     "name": "stdout",
     "output_type": "stream",
     "text": [
      "['.RData', '.Rhistory', 'Challenge_data_dictionary v2.xlsx', 'CoreTable_training.csv', 'DATA_CLEAN.csv', 'data_train_test_30-04-2015', 'dico_table.csv', 'LabValue_training.csv', 'leaderboard', 'LesionMeasure_training.csv', 'MedHistory_training.csv', 'PriorMed_training.csv', 'VitalSign_training.csv']\n"
     ]
    }
   ],
   "source": [
    "print os.listdir(os.getcwd())    \n",
    "os.chdir(\"C:\\\\\")\n",
    "os.listdir(r\"C:\\cygwin64\\home\\MDjerrab\\AppGenomique\\data\")\n",
    "os.chdir(r\"C:\\cygwin64\\home\\MDjerrab\\AppGenomique\\data\")"
   ]
  },
  {
   "cell_type": "code",
   "execution_count": 93,
   "metadata": {
    "collapsed": false
   },
   "outputs": [],
   "source": [
    "## Fichier CLEAN\n",
    "data = pd.read_csv(\"DATA_CLEAN.csv\",sep=\";\")\n",
    "## drop ID RPT\n",
    "data = data.drop(\"RPT\",axis=1)\n",
    "col_train = data.columns\n",
    "data_test = pd.read_csv(\"leaderboard/DATA_CLEAN_PREDICT.csv\",sep=\";\")\n",
    "col_test = data_test.columns\n",
    "data = data.drop('Unnamed: 0', 1)\n",
    "data_test = data_test.drop('Unnamed: 0', 1)\n",
    "## Fichier DICO\n",
    "dico = pd.read_csv('dico_table.csv',sep=\";\")\n",
    "dico = dico.loc[dico.Table == \"CoreTable\",:]"
   ]
  },
  {
   "cell_type": "code",
   "execution_count": 94,
   "metadata": {
    "collapsed": false
   },
   "outputs": [
    {
     "name": "stdout",
     "output_type": "stream",
     "text": [
      "(157, 97)\n",
      "(1600, 111)\n"
     ]
    }
   ],
   "source": [
    "print data_test.shape\n",
    "print data.shape"
   ]
  },
  {
   "cell_type": "markdown",
   "metadata": {
    "collapsed": true
   },
   "source": [
    "###DATA PREPARATION"
   ]
  },
  {
   "cell_type": "code",
   "execution_count": 95,
   "metadata": {
    "collapsed": false
   },
   "outputs": [
    {
     "name": "stdout",
     "output_type": "stream",
     "text": [
      "STUDYID\n",
      "ENDTRS_C\n",
      "AGEGRP\n",
      "AGEGRP2\n",
      "RACE_C\n",
      "REGION_C\n",
      "RPT\n",
      "AGEGRP\n",
      "AGEGRP2\n",
      "RACE_C\n",
      "HGTBLCAT\n",
      "WGTBLCAT\n",
      "REGION_C\n"
     ]
    }
   ],
   "source": [
    "## Séparation en char et num\n",
    "data_char,data_num = funk_data_cat_char_from_num(data)\n",
    "data_char_test,data_num_test = funk_data_cat_char_from_num(data_test)\n",
    "\n",
    "## Target 1 : DEATH\n",
    "trgt1 = data_num.pop('DEATH')\n",
    "trgt1 = trgt1.to_frame()\n",
    "## Target 2 : LKADT_P\n",
    "trgt2 = data_num.pop('LKADT_P')\n",
    "trgt2 = trgt2.to_frame()"
   ]
  },
  {
   "cell_type": "markdown",
   "metadata": {},
   "source": [
    "### FEATURE EXTRACTION"
   ]
  },
  {
   "cell_type": "code",
   "execution_count": 96,
   "metadata": {
    "collapsed": false
   },
   "outputs": [
    {
     "data": {
      "image/png": "[encoded data removed]",
      "text/plain": [
       "<matplotlib.figure.Figure at 0x18ef9518>"
      ]
     },
     "metadata": {},
     "output_type": "display_data"
    },
    {
     "name": "stdout",
     "output_type": "stream",
     "text": [
      "92\n"
     ]
    }
   ],
   "source": [
    "def funk_enthropy(test):\n",
    "    return(-sum([x*np.log(x) for x in test if x!=0]))\n",
    "test = data_num.copy()\n",
    "test[\"DEATH\"] =trgt1.DEATH\n",
    "res = pd.DataFrame(test.columns[0:(len(test.columns)-1)],columns=[\"DEATH\"])\n",
    "res[\"shannon\"]=0\n",
    "test_1 = (1/len(test))*test.groupby(\"DEATH\").sum()\n",
    "ll=[]\n",
    "for esc in range(len(test_1.T)):\n",
    "    ll.append(funk_enthropy(test_1.iloc[:,esc]))\n",
    "res.shannon = ll \n",
    "\n",
    "test = res.sort(['shannon'],ascending=[0])\n",
    "val = np.percentile(test.iloc[:,1],90)\n",
    "\n",
    "plt.figure()\n",
    "plt.plot(test.iloc[:,1], label =\"Shanon entropy measure\")\n",
    "plt.axhspan(0, val, xmin=0, xmax=16000 ,facecolor='0.5', alpha=0.5,label =\" 90-percentile \")\n",
    "plt.legend(loc='upper left')\n",
    "plt.savefig(r'C:\\Users\\MDjerrab\\Desktop\\Altegrad\\Altegrad_project\\Shanon_reduction.png', format='png', dpi=1000)\n",
    "plt.show()\n",
    "\n",
    "## Feature reduction\n",
    "name_feat_reduce = (test.loc[test.iloc[:,1]<val,'DEATH']).tolist()\n",
    "print len(np.unique(name_feat_reduce))"
   ]
  },
  {
   "cell_type": "markdown",
   "metadata": {},
   "source": [
    "### PREDICTION 1A : TOTAL PROBA OF DEATH"
   ]
  },
  {
   "cell_type": "markdown",
   "metadata": {},
   "source": [
    "##### riskGlobal"
   ]
  },
  {
   "cell_type": "code",
   "execution_count": 131,
   "metadata": {
    "collapsed": false
   },
   "outputs": [],
   "source": [
    "data_num = data_num.loc[:,set(name_feat_reduce)&set(data_num_test.columns)]\n",
    "clf =ensemble.RandomForestClassifier(random_state=1, n_estimators=100)\n",
    "clf.fit(data_num, trgt1.iloc[:,0])\n",
    "total_proba_death = clf.predict_proba(data_num_test.loc[:,set(name_feat_reduce)&set(data_num_test.columns)])"
   ]
  },
  {
   "cell_type": "markdown",
   "metadata": {},
   "source": [
    "##### risk 12, 18, 24"
   ]
  },
  {
   "cell_type": "code",
   "execution_count": 98,
   "metadata": {
    "collapsed": true
   },
   "outputs": [],
   "source": [
    "trgt2[\"12mois\"] =0\n",
    "trgt2[\"18mois\"] =0\n",
    "trgt2[\"24mois\"] =0\n",
    "trgt2.loc[(trgt2.LKADT_P< 361),\"12mois\"] = 1\n",
    "trgt2.loc[(trgt2.LKADT_P> 360)&(trgt2.LKADT_P< 541),\"18mois\"] = 1\n",
    "trgt2.loc[(trgt2.LKADT_P> 540)&(trgt2.LKADT_P< 720),\"24mois\"] = 1\n",
    "trgt1[\"riskScoreGlobal\"] =0\n",
    "trgt1[\"riskScore12\"] =0\n",
    "trgt1[\"riskScore18\"] =0\n",
    "trgt1[\"riskScore24\"] =0\n",
    "target = pd.concat([trgt2,trgt1],axis=1)\n",
    "target.riskScoreGlobal = target.DEATH\n",
    "target.loc[(target.DEATH == 1)&(target.loc[:,\"12mois\"]==1),\"riskScore12\"] = 1\n",
    "target.loc[(target.DEATH == 1)&(target.loc[:,\"18mois\"]==1),\"riskScore18\"] = 1\n",
    "target.loc[(target.DEATH == 1)&(target.loc[:,\"24mois\"]==1),\"riskScore24\"] = 1\n",
    "target.loc[(target.loc[:,\"12mois\"]==1),\"riskScore18\"] = 1\n",
    "target.loc[((target.loc[:,\"18mois\"]==1) | (target.loc[:,\"12mois\"]==1)),\n",
    "           \"riskScore24\"] = 1"
   ]
  },
  {
   "cell_type": "code",
   "execution_count": 132,
   "metadata": {
    "collapsed": true
   },
   "outputs": [],
   "source": [
    "clf =ensemble.RandomForestClassifier(random_state=1, n_estimators=100)\n",
    "clf.fit(data_num, target.iloc[:,6])\n",
    "total_proba_death_12 = clf.predict_proba(data_num_test.loc[:,set(name_feat_reduce)&set(data_num_test.columns)])\n",
    "clf.fit(data_num, target.iloc[:,7])\n",
    "total_proba_death_18 = clf.predict_proba(data_num_test.loc[:,set(name_feat_reduce)&set(data_num_test.columns)])\n",
    "clf.fit(data_num, target.iloc[:,8])\n",
    "total_proba_death_24 = clf.predict_proba(data_num_test.loc[:,set(name_feat_reduce)&set(data_num_test.columns)])"
   ]
  },
  {
   "cell_type": "markdown",
   "metadata": {},
   "source": [
    "### PREDICTION 1B : DURATION BEFORE DEATH"
   ]
  },
  {
   "cell_type": "code",
   "execution_count": 137,
   "metadata": {
    "collapsed": false
   },
   "outputs": [],
   "source": [
    "clf =RandomForestRegressor(random_state=1, n_estimators=100)\n",
    "clf.fit(data_num, trgt2.iloc[:,0])\n",
    "total_proba_duration = clf.predict(data_num_test.loc[:,set(name_feat_reduce)&set(data_num_test.columns)])"
   ]
  },
  {
   "cell_type": "markdown",
   "metadata": {},
   "source": [
    "### SAVING FILES TO SUBMIT"
   ]
  },
  {
   "cell_type": "markdown",
   "metadata": {},
   "source": [
    "##### 1A"
   ]
  },
  {
   "cell_type": "code",
   "execution_count": 152,
   "metadata": {
    "collapsed": false
   },
   "outputs": [],
   "source": [
    "subject1 = pd.DataFrame([data_test.RPT,total_proba_death[:,1],total_proba_death_12[:,1],\n",
    "                      total_proba_death_18[:,1],total_proba_death_24[:,1]\n",
    "                        ]).T\n",
    "subject1.columns= [\"RPT\",\"riskScoreGlobal\", \"riskScore12\", \"riskScore18\", \n",
    "                   \"riskScore24\"]\n",
    "subject1.to_csv(\"..\\subject1A_probas.csv\",index=False)"
   ]
  },
  {
   "cell_type": "markdown",
   "metadata": {},
   "source": [
    "##### 1B"
   ]
  },
  {
   "cell_type": "code",
   "execution_count": 153,
   "metadata": {
    "collapsed": false
   },
   "outputs": [],
   "source": [
    "subject2 = pd.DataFrame([data_test.RPT,total_proba_duration]).T\n",
    "subject2.columns=[\"RPT\",\"TIMETOEVENT\"]\n",
    "subject2.to_csv(\"..\\subject1B_durations.csv\",index=False)"
   ]
  }
 ],
 "metadata": {
  "kernelspec": {
   "display_name": "Python 2",
   "language": "python",
   "name": "python2"
  },
  "language_info": {
   "codemirror_mode": {
    "name": "ipython",
    "version": 2
   },
   "file_extension": ".py",
   "mimetype": "text/x-python",
   "name": "python",
   "nbconvert_exporter": "python",
   "pygments_lexer": "ipython2",
   "version": "2.7.8"
  }
 },
 "nbformat": 4,
 "nbformat_minor": 0
}
