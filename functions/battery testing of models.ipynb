{
 "cells": [
  {
   "cell_type": "code",
   "execution_count": 1,
   "metadata": {
    "collapsed": false
   },
   "outputs": [
    {
     "name": "stderr",
     "output_type": "stream",
     "text": [
      "C:\\Users\\MDjerrab\\Anaconda\\lib\\site-packages\\sklearn\\pls.py:7: DeprecationWarning: This module has been moved to cross_decomposition and will be removed in 0.16\n",
      "  \"removed in 0.16\", DeprecationWarning)\n"
     ]
    }
   ],
   "source": [
    "import os \n",
    "from __future__ import division\n",
    "import numpy as np\n",
    "import pandas as pd\n",
    "import matplotlib \n",
    "import sklearn as sk\n",
    "from sklearn import cross_validation\n",
    "from sklearn.decomposition import PCA, KernelPCA\n",
    "from matplotlib import pyplot as plt\n",
    "from sklearn import *\n",
    "from funk_py import *\n",
    "%matplotlib inline\n"
   ]
  },
  {
   "cell_type": "code",
   "execution_count": 2,
   "metadata": {
    "collapsed": false
   },
   "outputs": [
    {
     "name": "stdout",
     "output_type": "stream",
     "text": [
      "['.ipynb_checkpoints', 'battery testing of models.ipynb', 'CodeR_LisonJb_V4.R', 'DEALING_WITH_MISSING_vals.R', 'FEATURE_WORKS', 'function_data.R', 'function_feature_work.R', 'funk_py.py', 'funk_py.pyc', 'TEST OKVR and OPERALIB.ipynb']\n"
     ]
    }
   ],
   "source": [
    "print os.listdir(os.getcwd())    \n",
    "os.chdir(\"C:\\\\\")\n",
    "os.listdir(r\"C:\\cygwin64\\home\\MDjerrab\\AppGenomique\\data\")\n",
    "os.chdir(r\"C:\\cygwin64\\home\\MDjerrab\\AppGenomique\\data\")"
   ]
  },
  {
   "cell_type": "code",
   "execution_count": 3,
   "metadata": {
    "collapsed": false
   },
   "outputs": [],
   "source": [
    "## Fichier CLEAN\n",
    "data = pd.read_csv(\"DATA_CLEAN.csv\",sep=\";\")\n",
    "## drop ID RPT\n",
    "data = data.drop(\"RPT\",axis=1)\n",
    "col_train = data.columns\n",
    "data_test = pd.read_csv(\"leaderboard/CoreTable_leaderboard.csv\")\n",
    "col_test = data_test.columns\n",
    "\n",
    "## Fichier DICO\n",
    "dico = pd.read_csv('dico_table.csv',sep=\";\")\n",
    "dico = dico.loc[dico.Table == \"CoreTable\",:]"
   ]
  },
  {
   "cell_type": "code",
   "execution_count": 4,
   "metadata": {
    "collapsed": false
   },
   "outputs": [
    {
     "name": "stdout",
     "output_type": "stream",
     "text": [
      "110\n",
      "131\n",
      "112\n",
      "True\n",
      "True\n"
     ]
    },
    {
     "data": {
      "text/plain": [
       "array(['.'], dtype=object)"
      ]
     },
     "execution_count": 4,
     "metadata": {},
     "output_type": "execute_result"
    }
   ],
   "source": [
    "print len(list(set(col_train) & set(col_test)))\n",
    "print len(col_test)\n",
    "print len(col_train)\n",
    "print \"LKADT_P\" in col_test\n",
    "print \"LKADT_P\" in col_train\n",
    "data_test.LKADT_P.unique()  # Les colonnes existent mais sont vides\n",
    "data_test.DEATH.unique()"
   ]
  },
  {
   "cell_type": "raw",
   "metadata": {},
   "source": [
    "#########################\n",
    "# Le benchmark est le cox ## L'HOUR, GRAPPIN et les autres\n",
    "# All work on the train first\n",
    "\n",
    "#######################################\n",
    "#########  PRE WORK ON DATA  ##########\n",
    "#######################################\n",
    "#1# Float à virgules => Float pyhton\n",
    "#1# Splitting CHAR NUM\n",
    "#1# DEATH et LKADT_p => targt1, targt2\n",
    "#1# Datat Spliting => Train and Test\n",
    "#1# save the datas in a file\n",
    "\n",
    "\n",
    "#######################################\n",
    "############  TODO  ON DEATH  #########\n",
    "#######################################\n",
    "#1# Travail sur les var num\n",
    "#1# Travail sur la performances des algo\n",
    "\n",
    "#######################################\n",
    "############  TODO  LKADT_P  ##########\n",
    "#######################################\n",
    "#1# Faire la même chose que précédemment\n",
    "\n",
    "#######################################\n",
    "##########     TODO  CHAR    ##########\n",
    "#######################################\n",
    "#1# random order\n",
    "#1# pca representation\n",
    "#1# multitask learning\n",
    "#1# Adding info to data_num and predict\n",
    "    Two targets\n",
    "\n",
    "#######################################\n",
    "##########   TODO  Cascade   ##########\n",
    "#######################################\n",
    "#1# Prédiction en Cascade (Target 1 )\n",
    "#0# Nystroem kernel approxiamation\n",
    "\n",
    "#######################################\n",
    "#######   If time left reduction   ####\n",
    "#######################################\n",
    "#0# Shanon entropy reduction"
   ]
  },
  {
   "cell_type": "markdown",
   "metadata": {},
   "source": [
    "## DATA spliting"
   ]
  },
  {
   "cell_type": "code",
   "execution_count": 5,
   "metadata": {
    "collapsed": false
   },
   "outputs": [
    {
     "name": "stdout",
     "output_type": "stream",
     "text": [
      "STUDYID\n",
      "ENDTRS_C\n",
      "AGEGRP\n",
      "AGEGRP2\n",
      "RACE_C\n",
      "REGION_C\n"
     ]
    }
   ],
   "source": [
    "## Séparation en char et num\n",
    "data_char,data_num = funk_data_cat_char_from_num(data)\n",
    "## Target 1 : DEATH\n",
    "trgt1 = data_num.pop('DEATH')\n",
    "trgt1 = trgt1.to_frame()\n",
    "## Target 2 : LKADT_P\n",
    "trgt2 = data_num.pop('LKADT_P')\n",
    "trgt2 = trgt2.to_frame()"
   ]
  },
  {
   "cell_type": "code",
   "execution_count": 6,
   "metadata": {
    "collapsed": false
   },
   "outputs": [],
   "source": [
    "## TRAIN and TEST\n",
    "ratio= 0.6 # TRAIN 60% and TEST 40%\n",
    "data_char_train, data_char_test = funk_split(data_char,ratio)\n",
    "data_num_train, data_num_test = funk_split(data_num,ratio)\n",
    "trgt1_train, trgt1_test = funk_split(trgt1,ratio)\n",
    "trgt2_train, trgt2_test = funk_split(trgt2,ratio)"
   ]
  },
  {
   "cell_type": "code",
   "execution_count": 51,
   "metadata": {
    "collapsed": true
   },
   "outputs": [],
   "source": [
    "## Save\n",
    "# os.mkdir(\"data_train_test_30-04-2015\")\n",
    "# data_char_train.to_csv(r\"data_train_test_30-04-2015\\data_char_train.csv\",index =False)\n",
    "# data_char_test.to_csv(r\"data_train_test_30-04-2015\\data_char_test.csv\",index =False)\n",
    "# data_num_train.to_csv(r\"data_train_test_30-04-2015\\data_num_train.csv\",index =False)\n",
    "# data_num_test.to_csv(r\"data_train_test_30-04-2015\\data_num_test.csv\",index =False)\n",
    "# trgt1_train.to_csv(r\"data_train_test_30-04-2015\\trgt1_train.csv\",index =False)\n",
    "# trgt1_test.to_csv(r\"data_train_test_30-04-2015\\trgt1_test.csv\",index =False)\n",
    "# trgt2_train.to_csv(r\"data_train_test_30-04-2015\\trgt2_train.csv\",index =False)\n",
    "# trgt2_test.to_csv(r\"data_train_test_30-04-2015\\trgt2_test.csv\",index =False)"
   ]
  },
  {
   "cell_type": "markdown",
   "metadata": {},
   "source": [
    "## DEATH"
   ]
  },
  {
   "cell_type": "code",
   "execution_count": 7,
   "metadata": {
    "collapsed": false
   },
   "outputs": [
    {
     "name": "stdout",
     "output_type": "stream",
     "text": [
      "le score est de 0.7578125\n",
      "La somme des erreurs est de 155\n"
     ]
    }
   ],
   "source": [
    "clf = linear_model.LogisticRegression(C=0.00001)\n",
    "clf.fit(data_num_train, trgt1_train.iloc[:,0])\n",
    "print(\"le score est de \"+ str(clf.score(data_num_test,trgt1_test.iloc[:,0])))\n",
    "# somme error\n",
    "test = clf.predict(data_num_test)\n",
    "test1 = trgt1_test.iloc[:,0]\n",
    "print(\"La somme des erreurs est de \" + str(sum(np.abs(test-test1))))\n",
    "#le score est de 0.7578125\n",
    "#La somme des erreurs est de 155 out of 640"
   ]
  },
  {
   "cell_type": "code",
   "execution_count": 8,
   "metadata": {
    "collapsed": false
   },
   "outputs": [
    {
     "name": "stdout",
     "output_type": "stream",
     "text": [
      "0.757857633861\n",
      "[ 0.72897196  0.79342723  0.75117371]\n"
     ]
    }
   ],
   "source": [
    "clf = svm.SVC(kernel='linear', C=0.011)\n",
    "#clf = linear_model.LogisticRegression(C=0.00001)\n",
    "scores = cross_validation.cross_val_score(clf, data_num_test, trgt1_test.iloc[:,0], cv=3)\n",
    "print scores.mean()\n",
    "print scores\n",
    "# 0.75785763\n",
    "# array([ 0.72897196,  0.79342723,  0.75117371])"
   ]
  },
  {
   "cell_type": "markdown",
   "metadata": {
    "collapsed": false
   },
   "source": [
    "## DUREE"
   ]
  },
  {
   "cell_type": "code",
   "execution_count": 9,
   "metadata": {
    "collapsed": false
   },
   "outputs": [],
   "source": [
    "svr_rbf = svm.SVR(kernel='rbf')#, C=1e3, gamma=0.1)\n",
    "svr_lin = svm.SVR(kernel='linear')#, C=1e3)\n",
    "svr_poly = svm.SVR(kernel='poly',degree=1)#, C=1e3, degree=2) #Si on passe à un degré supérieur  à 1 on a un temps long\n",
    "l = [svr_rbf,svr_lin,svr_poly]"
   ]
  },
  {
   "cell_type": "code",
   "execution_count": 11,
   "metadata": {
    "collapsed": false
   },
   "outputs": [
    {
     "name": "stdout",
     "output_type": "stream",
     "text": [
      "rbf\n",
      "le score est de -0.0575050414072\n",
      "\n",
      "\n",
      "linear\n",
      "le score est de 0.41462451486\n",
      "\n",
      "\n",
      "poly\n",
      "le score est de 0.29573664506\n",
      "\n",
      "\n"
     ]
    }
   ],
   "source": [
    "for clf in l:\n",
    "    print(clf.kernel)\n",
    "    clf.fit(data_num_train, trgt2_train.iloc[:,0])\n",
    "    print(\"le score est de \"+ str(clf.score(data_num_test,trgt2_test.iloc[:,0])))\n",
    "    print('\\n')\n",
    "# RBF très mauvais  -0.0575\n",
    "# LINEAR local best 0.4146\n",
    "# Poly long et mauvais 0.29573   "
   ]
  },
  {
   "cell_type": "code",
   "execution_count": 10,
   "metadata": {
    "collapsed": false
   },
   "outputs": [
    {
     "name": "stdout",
     "output_type": "stream",
     "text": [
      "le score est de 0.492187500422\n"
     ]
    }
   ],
   "source": [
    "# Ridg better\n",
    "clf = linear_model.Lasso(alpha=0.1, copy_X=True, fit_intercept=True, max_iter=1000,normalize=False, \n",
    "                         positive=False, precompute=False, tol=0.001, warm_start=False)\n",
    "clf.fit(data_num_train, trgt2_train.iloc[:,0])\n",
    "print(\"le score est de \"+ str(clf.score(data_num_test,trgt2_test.iloc[:,0])))\n",
    "# le score est de 0.552169123731"
   ]
  },
  {
   "cell_type": "code",
   "execution_count": 11,
   "metadata": {
    "collapsed": false
   },
   "outputs": [
    {
     "name": "stdout",
     "output_type": "stream",
     "text": [
      "le score est de 0.666109752364\n"
     ]
    }
   ],
   "source": [
    "# Random Forest\n",
    "clf =RandomForestRegressor(random_state=1, n_estimators=100)\n",
    "clf.fit(data_num_train, trgt2_train.iloc[:,0])\n",
    "print(\"le score est de \"+ str(clf.score(data_num_test,trgt2_test.iloc[:,0])))"
   ]
  },
  {
   "cell_type": "markdown",
   "metadata": {
    "collapsed": false
   },
   "source": [
    "## DATA CHAR"
   ]
  },
  {
   "cell_type": "markdown",
   "metadata": {},
   "source": [
    "#### RANDOM ORDER"
   ]
  },
  {
   "cell_type": "code",
   "execution_count": 12,
   "metadata": {
    "collapsed": false
   },
   "outputs": [
    {
     "name": "stdout",
     "output_type": "stream",
     "text": [
      "3\n",
      "5\n",
      "42\n",
      "3\n",
      "6\n",
      "6\n",
      "['ASCENT2' 'CELGENE' 'EFC6546']\n",
      "['AE' 'complete' 'misce' 'possible_AE' 'progression']\n",
      "['40' '41' '45' '46' '48' '49' '50' '51' '52' '53' '54' '55' '56' '57' '58'\n",
      " '59' '60' '61' '62' '63' '64' '65' '66' '67' '68' '69' '70' '71' '72' '73'\n",
      " '74' '75' '76' '77' '78' '79' '80' '81' '82' '83' '84' '>=85']\n",
      "['18-64' '65-74' '>=75']\n",
      "['Asian' 'Black' 'Hispanic' 'Missing' 'Other' 'White']\n",
      "['EASTERN EUROPE' 'MISSING' 'NORTH AMERICA' 'OTHER' 'SOUTH AMERICA'\n",
      " 'WESTERN EUROPE']\n"
     ]
    }
   ],
   "source": [
    "## DATA randow order\n",
    "for esc in data_char_train.columns:\n",
    "    print len(np.unique(data_char_train.loc[:,esc]))\n",
    "\n",
    "## DATA randow order\n",
    "for esc in data_char_train.columns:\n",
    "    print(np.unique(data_char_train.loc[:,esc]))"
   ]
  },
  {
   "cell_type": "code",
   "execution_count": 13,
   "metadata": {
    "collapsed": false
   },
   "outputs": [],
   "source": [
    "##   Traitement de la data char\n",
    "# # AGEGRP\n",
    "# len(data.loc[data.AGEGRP =='>=85',:]) #27 seulement,  on va les passer ) 85 est on numérise la colonne\n",
    "# # MODIF\n",
    "data_char.AGEGRP[data_char.AGEGRP =='>=85'] = '85'\n",
    "data_char_train.AGEGRP[data_char_train.AGEGRP =='>=85'] = '85'\n",
    "data_char_test.AGEGRP[data_char_test.AGEGRP =='>=85'] = '85'\n",
    "# # TO INT \n",
    "data_char.AGEGRP[data_char.AGEGRP =='>=85'] = [int(x) for x in data_char.AGEGRP]\n",
    "data_char_train.AGEGRP = [int(x) for x in data_char_train.AGEGRP]\n",
    "data_char_test.AGEGRP = [int(x) for x in data_char_test.AGEGRP]\n",
    "# # RE CAT\n",
    "data_num[\"AGEGRP\"] = data_char.pop(\"AGEGRP\")\n",
    "data_num_test[\"AGEGRP\"] = data_char_test.pop(\"AGEGRP\")\n",
    "data_num_train[\"AGEGRP\"] = data_char_train.pop(\"AGEGRP\")\n",
    "# # Random Forest\n",
    "# clf =RandomForestRegressor(random_state=1, n_estimators=100)\n",
    "# clf.fit(data_num_train, trgt2_train.iloc[:,0])\n",
    "# print(\"le score est de \"+ str(clf.score(data_num_test,trgt2_test.iloc[:,0]))) # petite amélioration\n",
    "# # le score est de 0.668813515758"
   ]
  },
  {
   "cell_type": "code",
   "execution_count": 14,
   "metadata": {
    "collapsed": false
   },
   "outputs": [
    {
     "name": "stdout",
     "output_type": "stream",
     "text": [
      "['ASCENT2' 'CELGENE' 'EFC6546']\n",
      "['AE' 'complete' 'misce' 'possible_AE' 'progression']\n",
      "['18-64' '65-74' '>=75']\n",
      "['Asian' 'Black' 'Hispanic' 'Missing' 'Other' 'White']\n",
      "['EASTERN EUROPE' 'MISSING' 'NORTH AMERICA' 'OTHER' 'SOUTH AMERICA'\n",
      " 'WESTERN EUROPE']\n",
      "105\n",
      "105\n",
      "110\n",
      "110\n",
      "le score est de 0.660608334596\n"
     ]
    }
   ],
   "source": [
    "test = funk_increment_col(data_char_train)\n",
    "test1 = funk_increment_col(data_char_test)\n",
    "for esc in data_char_train.columns:\n",
    "    print(np.unique(data_char_train.loc[:,esc]))\n",
    "    \n",
    "print len(data_num_train.columns)\n",
    "print len(data_num_test.columns)\n",
    "data_num_train = pd.concat([data_num_train,test],axis=1)\n",
    "data_num_test = pd.concat([data_num_test,test1],axis=1)\n",
    "print len(data_num_train.columns)\n",
    "print len(data_num_test.columns)\n",
    "\n",
    "clf =RandomForestRegressor(random_state=1, n_estimators=100)\n",
    "clf.fit(data_num_train, trgt2_train.iloc[:,0])\n",
    "print(\"le score est de \"+ str(clf.score(data_num_test,trgt2_test.iloc[:,0])))\n",
    "#  le score est de 0.660608334596  # AUCUNE AM2LIORATION"
   ]
  },
  {
   "cell_type": "markdown",
   "metadata": {
    "collapsed": true
   },
   "source": [
    "##### PCA"
   ]
  },
  {
   "cell_type": "code",
   "execution_count": 15,
   "metadata": {
    "collapsed": false
   },
   "outputs": [],
   "source": [
    "# On recharge les données de travails\n",
    "[data_char_train,data_char_test,data_num_train,\n",
    "data_num_test,trgt1_train,trgt1_test,trgt2_train,\n",
    "trgt2_test] = funk_charge_set_data(\"data_train_test_30-04-2015\")             "
   ]
  },
  {
   "cell_type": "code",
   "execution_count": 16,
   "metadata": {
    "collapsed": false
   },
   "outputs": [
    {
     "name": "stdout",
     "output_type": "stream",
     "text": [
      "le score est de 0.302311632205\n"
     ]
    }
   ],
   "source": [
    "# PCA\n",
    "pca = PCA()\n",
    "X_pca = pca.fit_transform(data_num_train)\n",
    "pca = PCA()\n",
    "X_pca1 = pca.fit_transform(data_num_test)\n",
    "clf =RandomForestRegressor(random_state=1, n_estimators=100)\n",
    "clf.fit(X_pca, trgt2_train.iloc[:,0])\n",
    "print(\"le score est de \"+ str(clf.score(X_pca1,trgt2_test.iloc[:,0])))"
   ]
  },
  {
   "cell_type": "code",
   "execution_count": 17,
   "metadata": {
    "collapsed": false
   },
   "outputs": [
    {
     "name": "stdout",
     "output_type": "stream",
     "text": [
      "(960L, 959L)\n",
      "(640L, 640L)\n",
      "le score est de -0.0835017900339\n"
     ]
    }
   ],
   "source": [
    "# KPCA\n",
    "from sklearn.decomposition import PCA, KernelPCA\n",
    "\n",
    "X = data_num_train.copy()\n",
    "kpca = KernelPCA(kernel=\"rbf\", gamma=0.1)\n",
    "kpca1 = KernelPCA(kernel=\"rbf\", gamma=0.1)\n",
    "X_kpca = kpca.fit_transform(data_num_train)\n",
    "X_kpca1 = kpca1.fit_transform(data_num_test)\n",
    "print X_kpca.shape\n",
    "print X_kpca1.shape\n",
    "clf =RandomForestRegressor(random_state=1, n_estimators=100)\n",
    "clf.fit(X_pca[:,0:100], trgt2_train.iloc[:,0])\n",
    "print(\"le score est de \"+ str(clf.score(X_kpca1[:,0:100],trgt2_test.iloc[:,0])))\n",
    "# MAUVAIS RESULTAT"
   ]
  },
  {
   "cell_type": "markdown",
   "metadata": {},
   "source": [
    "##### SHANNON"
   ]
  },
  {
   "cell_type": "code",
   "execution_count": 95,
   "metadata": {
    "collapsed": false
   },
   "outputs": [],
   "source": [
    "# FAIRE une réduction à la shanon \n",
    "def funk_enthropy(test):\n",
    "    return(-sum([x*np.log(x) for x in test if x!=0]))\n",
    "test = data_num_train.copy()\n",
    "test[\"DEATH\"] =trgt1_train.DEATH\n",
    "res = pd.DataFrame(test.columns[0:(len(test.columns)-1)],columns=[\"DEATH\"])\n",
    "res[\"shannon\"]=0\n",
    "test_1 = (1/len(test))*test.groupby(\"DEATH\").sum()\n",
    "ll=[]\n",
    "for esc in range(len(test_1.T)):\n",
    "    ll.append(funk_enthropy(test_1.iloc[:,esc]))\n",
    "res.shannon = ll "
   ]
  },
  {
   "cell_type": "code",
   "execution_count": 106,
   "metadata": {
    "collapsed": false
   },
   "outputs": [
    {
     "data": {
      "image/png": "[encoded data removed]",
      "text/plain": [
       "<matplotlib.figure.Figure at 0x252b55c0>"
      ]
     },
     "metadata": {},
     "output_type": "display_data"
    },
    {
     "name": "stdout",
     "output_type": "stream",
     "text": [
      "93\n"
     ]
    }
   ],
   "source": [
    "test = res.sort(['shannon'],ascending=[0])\n",
    "val = np.percentile(test.iloc[:,1],90)\n",
    "\n",
    "plt.figure()\n",
    "plt.plot(test.iloc[:,1], label =\"Shanon entropy measure\")\n",
    "plt.axhspan(0, val, xmin=0, xmax=16000 ,facecolor='0.5', alpha=0.5,label =\" 90-percentile \")\n",
    "plt.legend(loc='upper left')\n",
    "plt.savefig(r'C:\\Users\\MDjerrab\\Desktop\\Altegrad\\Altegrad_project\\Shanon_reduction.png', format='png', dpi=1000)\n",
    "plt.show()\n",
    "\n",
    "## Feature reduction\n",
    "name_feat_reduce = (test.loc[test.iloc[:,1]<val,'DEATH']).tolist()\n",
    "print len(np.unique(name_feat_reduce))\n"
   ]
  },
  {
   "cell_type": "code",
   "execution_count": 107,
   "metadata": {
    "collapsed": false,
    "scrolled": true
   },
   "outputs": [
    {
     "name": "stdout",
     "output_type": "stream",
     "text": [
      "le score est de 0.8625\n"
     ]
    }
   ],
   "source": [
    "data_num_train.loc[:,name_feat_reduce]\n",
    "#clf =RandomForestRegressor(random_state=1, n_estimators=100)\n",
    "#clf.fit(data_num_train.loc[:,name_feat_reduce], trgt2_train.iloc[:,0])\n",
    "#print(\"le score est de \"+ str(clf.score(data_num_test.loc[:,name_feat_reduce],trgt2_test.iloc[:,0])))\n",
    "clf =ensemble.RandomForestClassifier(random_state=1, n_estimators=100)\n",
    "clf.fit(data_num_train.loc[:,name_feat_reduce], trgt1_train.iloc[:,0])\n",
    "print(\"le score est de \"+ str(clf.score(data_num_test.loc[:,name_feat_reduce],trgt1_test.iloc[:,0])))\n",
    "#  le score est de 0.345302010234 # SHANON MAUVAISE IDEE"
   ]
  },
  {
   "cell_type": "code",
   "execution_count": 1,
   "metadata": {
    "collapsed": false
   },
   "outputs": [],
   "source": [
    "#test = pd.DataFrame(clf.feature_importances_)\n",
    "#test.index=data_num_train.loc[:,name_feat_reduce].columns\n",
    "#test.sort([0],ascending=[0])"
   ]
  },
  {
   "cell_type": "code",
   "execution_count": 39,
   "metadata": {
    "collapsed": false
   },
   "outputs": [
    {
     "name": "stdout",
     "output_type": "stream",
     "text": [
      "le score est de 0.668031594331\n"
     ]
    }
   ],
   "source": [
    "data_num_train.loc[:,name_feat_reduce]\n",
    "clf =RandomForestRegressor(random_state=1, n_estimators=100)\n",
    "clf.fit(data_num_train.loc[:,name_feat_reduce], trgt2_train.iloc[:,0])\n",
    "print(\"le score est de \"+ str(clf.score(data_num_test.loc[:,name_feat_reduce],trgt2_test.iloc[:,0])))\n",
    "#  le score est de 0.345302010234 # SHANON MAUVAISE IDEE"
   ]
  },
  {
   "cell_type": "code",
   "execution_count": 40,
   "metadata": {
    "collapsed": false
   },
   "outputs": [
    {
     "name": "stdout",
     "output_type": "stream",
     "text": [
      "le score est de 0.7578125\n",
      "La somme des erreurs est de 155\n"
     ]
    }
   ],
   "source": [
    "clf = linear_model.LogisticRegression(C=0.00001)\n",
    "clf.fit(data_num_train.loc[:,name_feat_reduce], trgt1_train.iloc[:,0])\n",
    "print(\"le score est de \"+ str(clf.score(data_num_test.loc[:,name_feat_reduce],trgt1_test.iloc[:,0])))\n",
    "# somme error\n",
    "test = clf.predict(data_num_test.loc[:,name_feat_reduce])\n",
    "test1 = trgt1_test.iloc[:,0]\n",
    "print(\"La somme des erreurs est de \" + str(sum(np.abs(test-test1))))"
   ]
  },
  {
   "cell_type": "markdown",
   "metadata": {},
   "source": [
    "##### MAPING ON NUM"
   ]
  },
  {
   "cell_type": "code",
   "execution_count": 31,
   "metadata": {
    "collapsed": false
   },
   "outputs": [],
   "source": [
    "test_train = funk_convers_vector_num(data_char_train,data_num_train)\n",
    "test_test = funk_convers_vector_num(data_char_test,data_num_test)"
   ]
  },
  {
   "cell_type": "code",
   "execution_count": 37,
   "metadata": {
    "collapsed": false
   },
   "outputs": [
    {
     "name": "stdout",
     "output_type": "stream",
     "text": [
      "(1600, 1040)\n",
      "STUDYID\n",
      "ENDTRS_C\n",
      "AGEGRP2\n",
      "RACE_C\n",
      "REGION_C\n"
     ]
    }
   ],
   "source": [
    "test = funk_convers_vector_num(data_char,data_num)\n",
    "print test.shape\n",
    "[test,test1] = funk_data_cat_char_from_num(test)\n",
    "[test_tr,test_te] = funk_split(test1,ratio)\n"
   ]
  },
  {
   "cell_type": "code",
   "execution_count": 119,
   "metadata": {
    "collapsed": false
   },
   "outputs": [],
   "source": [
    "clf = linear_model.LogisticRegression(C=0.00001)\n",
    "clf.fit(test_tr, trgt1_train.iloc[:,0])\n",
    "#print(\"le score est de \"+ str(clf.score(test_te,trgt1_test.iloc[:,0])))\n",
    "# somme error\n",
    "#test = clf.predict(test_te)\n",
    "test1 = trgt1_test.iloc[:,0]\n",
    "#print(\"La somme des erreurs est de \" + str(sum(np.abs(test-test1))))\n",
    "#le score est de 0.7578125\n",
    "#La somme des erreurs est de 155 out of 640"
   ]
  },
  {
   "cell_type": "code",
   "execution_count": 120,
   "metadata": {
    "collapsed": false
   },
   "outputs": [
    {
     "name": "stdout",
     "output_type": "stream",
     "text": [
      "le score est de 0.67287259655\n"
     ]
    },
    {
     "data": {
      "text/plain": [
       "[<matplotlib.lines.Line2D at 0x28ac5cc0>]"
      ]
     },
     "execution_count": 120,
     "metadata": {},
     "output_type": "execute_result"
    },
    {
     "data": {
      "image/png": "[encoded data removed]",
      "text/plain": [
       "<matplotlib.figure.Figure at 0x28347d30>"
      ]
     },
     "metadata": {},
     "output_type": "display_data"
    }
   ],
   "source": [
    "# Random Forest\n",
    "clf =RandomForestRegressor(random_state=1, n_estimators=100)\n",
    "clf.fit(test_tr, trgt2_train.iloc[:,0])\n",
    "print(\"le score est de \"+ str(clf.score(test_te,trgt2_test.iloc[:,0])))\n",
    "test_1 = clf.feature_importances_\n",
    "plt.plot(np.sort(test_1)) ## on prends les 200 apeu près supérieur"
   ]
  },
  {
   "cell_type": "code",
   "execution_count": 121,
   "metadata": {
    "collapsed": false
   },
   "outputs": [
    {
     "name": "stdout",
     "output_type": "stream",
     "text": [
      "le score est de 0.677011081339\n"
     ]
    }
   ],
   "source": [
    "clf =RandomForestRegressor(random_state=1, n_estimators=100)\n",
    "clf.fit(test_tr.iloc[:,np.argsort(test_1)[800:]], trgt2_train.iloc[:,0])\n",
    "print(\"le score est de \"+ str(clf.score(test_te.iloc[:,np.argsort(test_1)[800:]],\n",
    "                                        trgt2_test.iloc[:,0])))\n",
    "# le score est de 0.677011081339"
   ]
  },
  {
   "cell_type": "markdown",
   "metadata": {
    "collapsed": true
   },
   "source": [
    "#### CASCADE"
   ]
  },
  {
   "cell_type": "code",
   "execution_count": 40,
   "metadata": {
    "collapsed": false
   },
   "outputs": [
    {
     "name": "stdout",
     "output_type": "stream",
     "text": [
      "le score est de 0.587148179715\n"
     ]
    }
   ],
   "source": [
    "clf =RandomForestRegressor(random_state=1, n_estimators=100)\n",
    "clf.fit(data_num_train, trgt1_train.iloc[:,0])\n",
    "print(\"le score est de \"+ str(clf.score(data_num_test,trgt1_test.iloc[:,0])))\n",
    "#  le score est de 0.660608334596  # AUCUNE AM2LIORATION"
   ]
  },
  {
   "cell_type": "code",
   "execution_count": 41,
   "metadata": {
    "collapsed": false
   },
   "outputs": [
    {
     "name": "stdout",
     "output_type": "stream",
     "text": [
      "le score est de 0.663595710366\n"
     ]
    }
   ],
   "source": [
    "clf = linear_model.LogisticRegression(C=0.00001)\n",
    "clf.fit(data_num_train, trgt1_train.iloc[:,0])\n",
    "test = data_num_train.copy()\n",
    "test[\"DEATH\"] = pd.DataFrame(clf.predict(data_num_train))\n",
    "test1 = data_num_test.copy()\n",
    "test1[\"DEATH\"] = pd.DataFrame(clf.predict(data_num_test))\n",
    "clf =RandomForestRegressor(random_state=1, n_estimators=100)\n",
    "clf.fit(test, trgt2_train.iloc[:,0])\n",
    "\n",
    "print(\"le score est de \"+ str(clf.score(test1,trgt2_test.iloc[:,0])))\n",
    "## le score est de 0.663595710366"
   ]
  },
  {
   "cell_type": "code",
   "execution_count": 33,
   "metadata": {
    "collapsed": false
   },
   "outputs": [
    {
     "data": {
      "text/plain": [
       "0.50257252868909652"
      ]
     },
     "execution_count": 33,
     "metadata": {},
     "output_type": "execute_result"
    }
   ],
   "source": [
    "from sklearn.linear_model import Ridge\n",
    "import numpy as np\n",
    "n_samples, n_features = 10, 5\n",
    "clf = Ridge(alpha=1) # 0.49125985581809783\n",
    "clf = linear_model.Lasso(alpha=5) # 0.50257252868909652\n",
    "#clf = svm.SVR(kernel='poly',degree=3)#, C=1e3)\n",
    "clf.fit(test, trgt2_train.iloc[:,0]) \n",
    "clf.score(test1, trgt2_test.iloc[:,0]) "
   ]
  },
  {
   "cell_type": "code",
   "execution_count": 34,
   "metadata": {
    "collapsed": false
   },
   "outputs": [
    {
     "name": "stdout",
     "output_type": "stream",
     "text": [
      "le score est de 0.8546875\n",
      "La somme des erreurs est de 93\n"
     ]
    }
   ],
   "source": [
    "## Random Forest Classifier\n",
    "clf =ensemble.RandomForestClassifier(random_state=1, n_estimators=100)\n",
    "clf.fit(data_num_train, trgt1_train.iloc[:,0])\n",
    "print(\"le score est de \"+ str(clf.score(data_num_test,trgt1_test.iloc[:,0])))\n",
    "# somme error\n",
    "test = clf.predict(data_num_test)\n",
    "test1 = trgt1_test.iloc[:,0]\n",
    "print(\"La somme des erreurs est de \" + str(sum(np.abs(test-test1))))\n",
    "#le score est de 0.7578125\n",
    "#La somme des erreurs est de 155 out of 640"
   ]
  },
  {
   "cell_type": "code",
   "execution_count": 35,
   "metadata": {
    "collapsed": false
   },
   "outputs": [
    {
     "data": {
      "text/plain": [
       "[<matplotlib.lines.Line2D at 0x17acaac8>]"
      ]
     },
     "execution_count": 35,
     "metadata": {},
     "output_type": "execute_result"
    },
    {
     "data": {
      "image/png": "[encoded data removed]",
      "text/plain": [
       "<matplotlib.figure.Figure at 0x25273898>"
      ]
     },
     "metadata": {},
     "output_type": "display_data"
    }
   ],
   "source": [
    "test_1 = clf.feature_importances_\n",
    "\n",
    "plt.plot(np.sort(test_1)) ## on "
   ]
  },
  {
   "cell_type": "code",
   "execution_count": 36,
   "metadata": {
    "collapsed": false
   },
   "outputs": [
    {
     "data": {
      "text/plain": [
       "Index([u'PHOS', u'CCRC', u'MG', u'SODIUM', u'ALT', u'HEIGHTBL', u'ALB', u'CREAT', u'TBILI', u'NEU', u'CA', u'WEIGHTBL', u'PLT', u'AST', u'WBC', u'BMI', u'PSA', u'HB', u'ENTRT_PC', u'ALP', u'PER_REF', u'LKADT_REF', u'Unnamed: 0', u'LDH'], dtype='object')"
      ]
     },
     "execution_count": 36,
     "metadata": {},
     "output_type": "execute_result"
    }
   ],
   "source": [
    "data_num_train.columns[np.argsort(test_1)[80:]]"
   ]
  }
 ],
 "metadata": {
  "kernelspec": {
   "display_name": "Python 2",
   "language": "python",
   "name": "python2"
  },
  "language_info": {
   "codemirror_mode": {
    "name": "ipython",
    "version": 2
   },
   "file_extension": ".py",
   "mimetype": "text/x-python",
   "name": "python",
   "nbconvert_exporter": "python",
   "pygments_lexer": "ipython2",
   "version": "2.7.8"
  }
 },
 "nbformat": 4,
 "nbformat_minor": 0
}
